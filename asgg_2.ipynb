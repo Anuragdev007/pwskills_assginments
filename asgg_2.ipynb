{
 "cells": [
  {
   "cell_type": "code",
   "execution_count": 1,
   "id": "f1189854-a36b-48a8-ad88-93671891f633",
   "metadata": {},
   "outputs": [],
   "source": [
    "# def keyword is used to define the function \n",
    "\n",
    "def get_odd_numbers():\n",
    "    odd_numbers = []\n",
    "    for num in range(1, 26):\n",
    "        if num % 2 != 0:\n",
    "            odd_numbers.append(num)\n",
    "    return odd_numbers"
   ]
  },
  {
   "cell_type": "code",
   "execution_count": 2,
   "id": "901906bf-a03e-4128-962b-8a1e307a512d",
   "metadata": {},
   "outputs": [
    {
     "data": {
      "text/plain": [
       "[1, 3, 5, 7, 9, 11, 13, 15, 17, 19, 21, 23, 25]"
      ]
     },
     "execution_count": 2,
     "metadata": {},
     "output_type": "execute_result"
    }
   ],
   "source": [
    "get_odd_numbers()"
   ]
  },
  {
   "cell_type": "code",
   "execution_count": 3,
   "id": "73f0c66a-31dd-46dc-ae05-8205b5875921",
   "metadata": {},
   "outputs": [
    {
     "name": "stdout",
     "output_type": "stream",
     "text": [
      "15\n"
     ]
    }
   ],
   "source": [
    "# *args is used to pass a variable number of non-keyword arguments to a function. The * before the parameter name tells Python to pass all non-keyword arguments to the function as a tuple.\n",
    "# **kwargs is used to pass a variable number of keyword arguments to a function. The ** before the parameter name tells Python to pass all keyword arguments to the function as a dictionary.\n",
    "def sum_numbers(*args):\n",
    "    total = 0\n",
    "    for num in args:\n",
    "        total += num\n",
    "    return total\n",
    "print(sum_numbers(1, 2, 3, 4, 5))  \n",
    "\n"
   ]
  },
  {
   "cell_type": "code",
   "execution_count": 4,
   "id": "4000ff81-5e76-45f4-87bf-2a9bc3e487d7",
   "metadata": {},
   "outputs": [
    {
     "name": "stdout",
     "output_type": "stream",
     "text": [
      "name = Alice\n",
      "age = 25\n",
      "city = New York\n"
     ]
    }
   ],
   "source": [
    "def print_kwargs(**kwargs):\n",
    "    for key, value in kwargs.items():\n",
    "        print(f\"{key} = {value}\")\n",
    "        \n",
    "print_kwargs(name=\"Alice\", age=25, city=\"New York\")\n"
   ]
  },
  {
   "cell_type": "code",
   "execution_count": 5,
   "id": "f2c29fc7-306e-4c27-8b8d-69fc6f57e897",
   "metadata": {},
   "outputs": [
    {
     "name": "stdout",
     "output_type": "stream",
     "text": [
      "2\n",
      "4\n",
      "6\n",
      "8\n",
      "10\n"
     ]
    }
   ],
   "source": [
    "# an iterator is an object that can be iterated (looped) upon, meaning you can traverse through all the values. It provides a way to access the elements of an object in a sequential manner without knowing the internal structure of the object. An iterator provides two methods - iter() and next() to loop over an object.\n",
    "\n",
    "# The iter() method initializes the iterator object, and the next() method is used to access the next element of the iterator. When there are no more elements to iterate, next() raises the StopIteration exception.\n",
    "\n",
    "# Initializing the iterator object\n",
    "my_list = [2, 4, 6, 8, 10, 12, 14, 16, 18, 20]\n",
    "it = iter(my_list)\n",
    "\n",
    "# Iterating through the list using the next() method\n",
    "print(next(it))\n",
    "print(next(it))\n",
    "print(next(it))\n",
    "print(next(it))\n",
    "print(next(it))\n"
   ]
  },
  {
   "cell_type": "code",
   "execution_count": 1,
   "id": "c6c2cce5-a419-4815-b2c1-13101b1a8441",
   "metadata": {},
   "outputs": [
    {
     "name": "stdout",
     "output_type": "stream",
     "text": [
      "0\n",
      "2\n",
      "4\n",
      "6\n",
      "8\n"
     ]
    }
   ],
   "source": [
    "# a generator function is a special type of function that returns an iterator object which can be iterated using the next() method. It uses the yield keyword to produce a sequence of values that can be iterated over.\n",
    "\n",
    "# The yield keyword is used to produce a value and pause the execution of the function. When the generator function is called again, execution resumes from where it left off, and continues until the next yield statement is encountered. This allows the generator function to produce a series of values on the fly without having to compute them all at once and store them in memory.\n",
    "\n",
    "\n",
    "\n",
    "def even_numbers(n):\n",
    "    for i in range(n):\n",
    "        if i % 2 == 0:\n",
    "            yield i\n",
    "\n",
    "# Using the generator function to print even numbers up to 10\n",
    "for num in even_numbers(10):\n",
    "    print(num)\n"
   ]
  },
  {
   "cell_type": "code",
   "execution_count": 2,
   "id": "eced537e-7c86-4720-93c5-df18853bc9bb",
   "metadata": {},
   "outputs": [
    {
     "name": "stdout",
     "output_type": "stream",
     "text": [
      "2\n",
      "3\n",
      "5\n",
      "7\n",
      "11\n",
      "13\n",
      "17\n",
      "19\n",
      "23\n",
      "29\n",
      "31\n",
      "37\n",
      "41\n",
      "43\n",
      "47\n",
      "53\n",
      "59\n",
      "61\n",
      "67\n",
      "71\n"
     ]
    }
   ],
   "source": [
    "def generate_primes():\n",
    "    # Generate prime numbers less than 1000\n",
    "    for num in range(2, 1000):\n",
    "        # Check if the number is prime\n",
    "        for i in range(2, num):\n",
    "            if (num % i) == 0:\n",
    "                break\n",
    "        else:\n",
    "            yield num\n",
    "\n",
    "# Using the generator function to print the first 20 prime numbers\n",
    "prime_generator = generate_primes()\n",
    "for i in range(20):\n",
    "    print(next(prime_generator))\n"
   ]
  },
  {
   "cell_type": "code",
   "execution_count": 3,
   "id": "325e6f33-89ad-40eb-bfc8-a25a38cc2fb1",
   "metadata": {},
   "outputs": [
    {
     "name": "stdout",
     "output_type": "stream",
     "text": [
      "0\n",
      "1\n",
      "1\n",
      "2\n",
      "3\n",
      "5\n",
      "8\n",
      "13\n",
      "21\n",
      "34\n"
     ]
    }
   ],
   "source": [
    "# Initializing the first two Fibonacci numbers\n",
    "a, b = 0, 1\n",
    "\n",
    "# Using a while loop to print the first 10 Fibonacci numbers\n",
    "i = 0\n",
    "while i < 10:\n",
    "    print(a)\n",
    "    a, b = b, a+b\n",
    "    i += 1\n"
   ]
  },
  {
   "cell_type": "code",
   "execution_count": 4,
   "id": "a022bcc7-5f70-41a0-a900-fa537ab09f70",
   "metadata": {},
   "outputs": [
    {
     "name": "stdout",
     "output_type": "stream",
     "text": [
      "['p', 'w', 's', 'k', 'i', 'l', 'l', 's']\n"
     ]
    }
   ],
   "source": [
    "# Using list comprehension to extract the desired characters from the string\n",
    "string = 'pwskills'\n",
    "result = [char for char in string if char in 'pwskills']\n",
    "\n",
    "# Printing the result\n",
    "print(result)\n"
   ]
  },
  {
   "cell_type": "code",
   "execution_count": 5,
   "id": "fe38d29f-5f94-4a92-a065-23bb239d0690",
   "metadata": {},
   "outputs": [
    {
     "name": "stdin",
     "output_type": "stream",
     "text": [
      "Enter a number:  15896\n"
     ]
    },
    {
     "name": "stdout",
     "output_type": "stream",
     "text": [
      "15896 is not a palindrome number\n"
     ]
    }
   ],
   "source": [
    "# Taking input from user\n",
    "num = int(input(\"Enter a number: \"))\n",
    "\n",
    "# Initializing variables\n",
    "temp = num\n",
    "rev = 0\n",
    "\n",
    "# Using a while loop to reverse the digits of the number\n",
    "while temp > 0:\n",
    "    digit = temp % 10\n",
    "    rev = rev * 10 + digit\n",
    "    temp = temp // 10\n",
    "\n",
    "# Checking if the original number is equal to its reverse\n",
    "if num == rev:\n",
    "    print(num, \"is a palindrome number\")\n",
    "else:\n",
    "    print(num, \"is not a palindrome number\")\n"
   ]
  },
  {
   "cell_type": "code",
   "execution_count": 6,
   "id": "f709ecaf-b588-4674-a356-bb29f6fc2b93",
   "metadata": {},
   "outputs": [
    {
     "name": "stdout",
     "output_type": "stream",
     "text": [
      "[1, 3, 5, 7, 9, 11, 13, 15, 17, 19, 21, 23, 25, 27, 29, 31, 33, 35, 37, 39, 41, 43, 45, 47, 49, 51, 53, 55, 57, 59, 61, 63, 65, 67, 69, 71, 73, 75, 77, 79, 81, 83, 85, 87, 89, 91, 93, 95, 97, 99]\n"
     ]
    }
   ],
   "source": [
    "# Using list comprehension to generate a list of odd numbers from 1 to 100\n",
    "odd_numbers = [num for num in range(1, 101) if num % 2 != 0]\n",
    "\n",
    "# Printing the list of odd numbers\n",
    "print(odd_numbers)\n"
   ]
  },
  {
   "cell_type": "code",
   "execution_count": null,
   "id": "9a9cbcaf-b8bb-44db-bd93-051e1315ff93",
   "metadata": {},
   "outputs": [],
   "source": []
  }
 ],
 "metadata": {
  "kernelspec": {
   "display_name": "Python 3 (ipykernel)",
   "language": "python",
   "name": "python3"
  },
  "language_info": {
   "codemirror_mode": {
    "name": "ipython",
    "version": 3
   },
   "file_extension": ".py",
   "mimetype": "text/x-python",
   "name": "python",
   "nbconvert_exporter": "python",
   "pygments_lexer": "ipython3",
   "version": "3.10.8"
  }
 },
 "nbformat": 4,
 "nbformat_minor": 5
}
